{
  "nbformat": 4,
  "nbformat_minor": 0,
  "metadata": {
    "colab": {
      "provenance": [],
      "include_colab_link": true
    },
    "kernelspec": {
      "name": "python3",
      "display_name": "Python 3"
    },
    "language_info": {
      "name": "python"
    }
  },
  "cells": [
    {
      "cell_type": "markdown",
      "metadata": {
        "id": "view-in-github",
        "colab_type": "text"
      },
      "source": [
        "<a href=\"https://colab.research.google.com/github/chandansikarwar/Machine-Learning/blob/main/Class_in_Python.ipynb\" target=\"_parent\"><img src=\"https://colab.research.google.com/assets/colab-badge.svg\" alt=\"Open In Colab\"/></a>"
      ]
    },
    {
      "cell_type": "code",
      "execution_count": null,
      "metadata": {
        "id": "SpUwfGWw21vx"
      },
      "outputs": [],
      "source": [
        "# Defining a class\n",
        "class Car:\n",
        "    # Constructor (__init__ method)\n",
        "    def __init__(self, brand, model, year):\n",
        "        self.brand = brand  # Attribute\n",
        "        self.model = model  # Attribute\n",
        "        self.year = year    # Attribute\n",
        "\n",
        "    # Method to display car details\n",
        "    def display_info(self):\n",
        "        print(f\"Car: {self.brand} {self.model} ({self.year})\")\n",
        "\n",
        "# Creating objects of the Car class\n",
        "car1 = Car(\"Toyota\", \"Corolla\", 2022)\n",
        "car2 = Car(\"Tesla\", \"Model S\", 2023)\n",
        "\n",
        "# Accessing methods and attributes\n",
        "car1.display_info()  # Output: Car: Toyota Corolla (2022)\n",
        "car2.display_info()  # Output: Car: Tesla Model S (2023)\n"
      ]
    },
    {
      "cell_type": "code",
      "source": [
        "class Bike:\n",
        "  def __init__(self, brand, model, year):\n",
        "    self.brand = brand\n",
        "    self.model = model\n",
        "    self.year = year\n",
        "\n",
        "  def displayy_info(self):\n",
        "        print(f\"Bike: {self.brand} {self.model} ({self.year})\")\n",
        "\n",
        "Bike1 = Bike(\"Ninja\",\"C56\",2020)\n",
        "Bike2 = Bike(\"Ninja\",\"C56\",2020)\n",
        "\n",
        "Bike1.displayy_info()\n",
        "Bike2.displayy_info()\n",
        "\n",
        "\n",
        "\n",
        "\n",
        "\n",
        "\n",
        ""
      ],
      "metadata": {
        "id": "fmTJeYdoL1RD"
      },
      "execution_count": null,
      "outputs": []
    },
    {
      "cell_type": "code",
      "source": [
        "class Employee:\n",
        "    def __init__(self, name, salary):\n",
        "        self.name = name\n",
        "        self.salary = salary\n",
        "\n",
        "    def get_annual_salary(self):\n",
        "        return self.salary * 12\n",
        "\n",
        "# Creating an object\n",
        "emp = Employee(\"John\", 5000)\n",
        "\n",
        "print(f\"Annual Salary of {emp.name}: {emp.get_annual_salary()}\")\n"
      ],
      "metadata": {
        "id": "MALFoGl73VaA",
        "colab": {
          "base_uri": "https://localhost:8080/"
        },
        "outputId": "1f2570d2-3665-455e-e1bd-f647ee250441"
      },
      "execution_count": 1,
      "outputs": [
        {
          "output_type": "stream",
          "name": "stdout",
          "text": [
            "Annual Salary of John: 60000\n"
          ]
        }
      ]
    },
    {
      "cell_type": "code",
      "source": [
        "class Student:\n",
        "    def __init__(self, name, age, marks):\n",
        "        self.name = name\n",
        "        self.age = age\n",
        "        self.marks = marks\n",
        "\n",
        "    def display(self):\n",
        "        print(f\"Name: {self.name}, Age: {self.age}, Marks: {self.marks}\")\n",
        "\n",
        "# List of students\n",
        "students = [\n",
        "    Student(\"Alice\", 20, 85),\n",
        "    Student(\"Bob\", 21, 90),\n",
        "    Student(\"Charlie\", 22, 88)\n",
        "]\n",
        "\n",
        "# Loop to display details\n",
        "for student in students:\n",
        "    student.display()\n"
      ],
      "metadata": {
        "colab": {
          "base_uri": "https://localhost:8080/"
        },
        "id": "cjnB-4Pd4vVk",
        "outputId": "842decf0-7cae-4d8e-a758-a06c661109fd"
      },
      "execution_count": null,
      "outputs": [
        {
          "output_type": "stream",
          "name": "stdout",
          "text": [
            "Name: Alice, Age: 20, Marks: 85\n",
            "Name: Bob, Age: 21, Marks: 90\n",
            "Name: Charlie, Age: 22, Marks: 88\n"
          ]
        }
      ]
    },
    {
      "cell_type": "markdown",
      "source": [
        "https://tinyurl.com/classinpy"
      ],
      "metadata": {
        "id": "o1bzyke8GK3S"
      }
    },
    {
      "cell_type": "code",
      "source": [
        "class Store:\n",
        "    def __init__(self):\n",
        "        self.inventory = {}\n",
        "\n",
        "    def add_product(self, name, price):\n",
        "        self.inventory[name] = price\n",
        "\n",
        "    def display_products(self):\n",
        "        for product, price in self.inventory.items():\n",
        "            print(f\"Product: {product}, Price: {price}\")\n",
        "\n",
        "# Creating Store object\n",
        "shop = Store()\n",
        "shop.add_product(\"Laptop\", 50000)\n",
        "shop.add_product(\"Mouse\", 1000)\n",
        "shop.add_product(\"Keyboard\", 1500)\n",
        "\n",
        "# Display products\n",
        "shop.display_products()\n"
      ],
      "metadata": {
        "id": "82PRpeDH7lWT",
        "colab": {
          "base_uri": "https://localhost:8080/"
        },
        "outputId": "fd1b9e4a-7c88-4e44-98e0-3ca4aa11ba9d"
      },
      "execution_count": 2,
      "outputs": [
        {
          "output_type": "stream",
          "name": "stdout",
          "text": [
            "Product: Laptop, Price: 50000\n",
            "Product: Mouse, Price: 1000\n",
            "Product: Keyboard, Price: 1500\n"
          ]
        }
      ]
    },
    {
      "cell_type": "markdown",
      "source": [],
      "metadata": {
        "id": "EoYy_wugGKKy"
      }
    },
    {
      "cell_type": "code",
      "source": [
        "class Employee:\n",
        "    def __init__(self, emp_id, name, salary):\n",
        "        self.emp_id = emp_id\n",
        "        self.name = name\n",
        "        self.salary = salary\n",
        "\n",
        "# Dictionary of employees\n",
        "employees = {\n",
        "    101: Employee(101, \"John\", 50000),\n",
        "    102: Employee(102, \"Emma\", 60000),\n",
        "    103: Employee(103, \"David\", 55000)\n",
        "}\n",
        "\n",
        "# Display employee details\n",
        "for emp_id, emp in employees.items():\n",
        "    print(f\"ID: {emp.emp_id}, Name: {emp.name}, Salary: {emp.salary}\")\n"
      ],
      "metadata": {
        "colab": {
          "base_uri": "https://localhost:8080/"
        },
        "id": "P4L76Lef6jkp",
        "outputId": "af7e2f68-c576-480d-ab4e-fc2502ade4ff"
      },
      "execution_count": null,
      "outputs": [
        {
          "output_type": "stream",
          "name": "stdout",
          "text": [
            "ID: 101, Name: John, Salary: 50000\n",
            "ID: 102, Name: Emma, Salary: 60000\n",
            "ID: 103, Name: David, Salary: 55000\n"
          ]
        }
      ]
    }
  ]
}